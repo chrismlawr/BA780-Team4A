{
  "nbformat": 4,
  "nbformat_minor": 0,
  "metadata": {
    "colab": {
      "name": "DataCleaning.ipynb",
      "provenance": [],
      "collapsed_sections": [
        "l-IesxNRMKNY",
        "H7KAEE103l4l",
        "oYvA9r2fEXFJ"
      ],
      "authorship_tag": "ABX9TyPiZJEQUGC+qaP3KwLPsCfL",
      "include_colab_link": true
    },
    "kernelspec": {
      "name": "python3",
      "display_name": "Python 3"
    }
  },
  "cells": [
    {
      "cell_type": "markdown",
      "metadata": {
        "id": "view-in-github",
        "colab_type": "text"
      },
      "source": [
        "<a href=\"https://colab.research.google.com/github/chrismlawr/BA780-Team4A/blob/main/DataCleaning.ipynb\" target=\"_parent\"><img src=\"https://colab.research.google.com/assets/colab-badge.svg\" alt=\"Open In Colab\"/></a>"
      ]
    },
    {
      "cell_type": "markdown",
      "metadata": {
        "id": "vlsyGPXbVV_8"
      },
      "source": [
        "Connecting our Google Drive to this notebook to access the dataset"
      ]
    },
    {
      "cell_type": "code",
      "metadata": {
        "id": "tC9lZr1_VaHu",
        "outputId": "169a561f-09fc-49dd-93d2-71cfda671e09",
        "colab": {
          "base_uri": "https://localhost:8080/"
        }
      },
      "source": [
        "from google.colab import drive\n",
        "drive.mount('/gdrive')\n",
        "%cd /gdrive/Shared\\ drives/BA775\\ -\\ Team\\ 4A"
      ],
      "execution_count": null,
      "outputs": [
        {
          "output_type": "stream",
          "text": [
            "Drive already mounted at /gdrive; to attempt to forcibly remount, call drive.mount(\"/gdrive\", force_remount=True).\n",
            "/gdrive/Shared drives/BA775 - Team 4A\n"
          ],
          "name": "stdout"
        }
      ]
    },
    {
      "cell_type": "markdown",
      "metadata": {
        "id": "hXwRX2AXWHig"
      },
      "source": [
        "----"
      ]
    },
    {
      "cell_type": "markdown",
      "metadata": {
        "id": "GS-BpkeREIch"
      },
      "source": [
        "Importing packages and loading the dataset to our notebook"
      ]
    },
    {
      "cell_type": "code",
      "metadata": {
        "id": "QOCDW4XaVbJg"
      },
      "source": [
        "# imports\n",
        "import pandas as pd\n",
        "import numpy as np\n",
        "import matplotlib.pyplot as plt\n",
        "#plt.style.use('classic')\n",
        "%matplotlib inline\n",
        "import seaborn as sns"
      ],
      "execution_count": null,
      "outputs": []
    },
    {
      "cell_type": "code",
      "metadata": {
        "id": "iMPQVVHMVpbl"
      },
      "source": [
        "raw = pd.read_csv('listings.csv')"
      ],
      "execution_count": null,
      "outputs": []
    },
    {
      "cell_type": "code",
      "metadata": {
        "id": "QLU9R87fWn-L",
        "outputId": "eb84a326-eafa-429c-ea48-8fde27672030",
        "colab": {
          "base_uri": "https://localhost:8080/",
          "height": 530
        }
      },
      "source": [
        "raw.head()"
      ],
      "execution_count": null,
      "outputs": [
        {
          "output_type": "execute_result",
          "data": {
            "text/html": [
              "<div>\n",
              "<style scoped>\n",
              "    .dataframe tbody tr th:only-of-type {\n",
              "        vertical-align: middle;\n",
              "    }\n",
              "\n",
              "    .dataframe tbody tr th {\n",
              "        vertical-align: top;\n",
              "    }\n",
              "\n",
              "    .dataframe thead th {\n",
              "        text-align: right;\n",
              "    }\n",
              "</style>\n",
              "<table border=\"1\" class=\"dataframe\">\n",
              "  <thead>\n",
              "    <tr style=\"text-align: right;\">\n",
              "      <th></th>\n",
              "      <th>id</th>\n",
              "      <th>listing_url</th>\n",
              "      <th>scrape_id</th>\n",
              "      <th>last_scraped</th>\n",
              "      <th>name</th>\n",
              "      <th>description</th>\n",
              "      <th>neighborhood_overview</th>\n",
              "      <th>picture_url</th>\n",
              "      <th>host_id</th>\n",
              "      <th>host_url</th>\n",
              "      <th>host_name</th>\n",
              "      <th>host_since</th>\n",
              "      <th>host_location</th>\n",
              "      <th>host_about</th>\n",
              "      <th>host_response_time</th>\n",
              "      <th>host_response_rate</th>\n",
              "      <th>host_acceptance_rate</th>\n",
              "      <th>host_is_superhost</th>\n",
              "      <th>host_thumbnail_url</th>\n",
              "      <th>host_picture_url</th>\n",
              "      <th>host_neighbourhood</th>\n",
              "      <th>host_listings_count</th>\n",
              "      <th>host_total_listings_count</th>\n",
              "      <th>host_verifications</th>\n",
              "      <th>host_has_profile_pic</th>\n",
              "      <th>host_identity_verified</th>\n",
              "      <th>neighbourhood</th>\n",
              "      <th>neighbourhood_cleansed</th>\n",
              "      <th>neighbourhood_group_cleansed</th>\n",
              "      <th>latitude</th>\n",
              "      <th>longitude</th>\n",
              "      <th>property_type</th>\n",
              "      <th>room_type</th>\n",
              "      <th>accommodates</th>\n",
              "      <th>bathrooms</th>\n",
              "      <th>bathrooms_text</th>\n",
              "      <th>bedrooms</th>\n",
              "      <th>beds</th>\n",
              "      <th>amenities</th>\n",
              "      <th>price</th>\n",
              "      <th>minimum_nights</th>\n",
              "      <th>maximum_nights</th>\n",
              "      <th>minimum_minimum_nights</th>\n",
              "      <th>maximum_minimum_nights</th>\n",
              "      <th>minimum_maximum_nights</th>\n",
              "      <th>maximum_maximum_nights</th>\n",
              "      <th>minimum_nights_avg_ntm</th>\n",
              "      <th>maximum_nights_avg_ntm</th>\n",
              "      <th>calendar_updated</th>\n",
              "      <th>has_availability</th>\n",
              "      <th>availability_30</th>\n",
              "      <th>availability_60</th>\n",
              "      <th>availability_90</th>\n",
              "      <th>availability_365</th>\n",
              "      <th>calendar_last_scraped</th>\n",
              "      <th>number_of_reviews</th>\n",
              "      <th>number_of_reviews_ltm</th>\n",
              "      <th>number_of_reviews_l30d</th>\n",
              "      <th>first_review</th>\n",
              "      <th>last_review</th>\n",
              "      <th>review_scores_rating</th>\n",
              "      <th>review_scores_accuracy</th>\n",
              "      <th>review_scores_cleanliness</th>\n",
              "      <th>review_scores_checkin</th>\n",
              "      <th>review_scores_communication</th>\n",
              "      <th>review_scores_location</th>\n",
              "      <th>review_scores_value</th>\n",
              "      <th>license</th>\n",
              "      <th>instant_bookable</th>\n",
              "      <th>calculated_host_listings_count</th>\n",
              "      <th>calculated_host_listings_count_entire_homes</th>\n",
              "      <th>calculated_host_listings_count_private_rooms</th>\n",
              "      <th>calculated_host_listings_count_shared_rooms</th>\n",
              "      <th>reviews_per_month</th>\n",
              "    </tr>\n",
              "  </thead>\n",
              "  <tbody>\n",
              "    <tr>\n",
              "      <th>0</th>\n",
              "      <td>2595</td>\n",
              "      <td>https://www.airbnb.com/rooms/2595</td>\n",
              "      <td>20201005145859</td>\n",
              "      <td>2020-10-07</td>\n",
              "      <td>Skylit Midtown Castle</td>\n",
              "      <td>Beautiful, spacious skylit studio in the heart...</td>\n",
              "      <td>Centrally located in the heart of Manhattan ju...</td>\n",
              "      <td>https://a0.muscache.com/pictures/f0813a11-40b2...</td>\n",
              "      <td>2845</td>\n",
              "      <td>https://www.airbnb.com/users/show/2845</td>\n",
              "      <td>Jennifer</td>\n",
              "      <td>2008-09-09</td>\n",
              "      <td>New York, New York, United States</td>\n",
              "      <td>A New Yorker since 2000! My passion is creatin...</td>\n",
              "      <td>within a day</td>\n",
              "      <td>70%</td>\n",
              "      <td>25%</td>\n",
              "      <td>f</td>\n",
              "      <td>https://a0.muscache.com/im/pictures/user/50fc5...</td>\n",
              "      <td>https://a0.muscache.com/im/pictures/user/50fc5...</td>\n",
              "      <td>Midtown</td>\n",
              "      <td>6.0</td>\n",
              "      <td>6.0</td>\n",
              "      <td>['email', 'phone', 'reviews', 'offline_governm...</td>\n",
              "      <td>t</td>\n",
              "      <td>t</td>\n",
              "      <td>New York, United States</td>\n",
              "      <td>Midtown</td>\n",
              "      <td>Manhattan</td>\n",
              "      <td>40.75362</td>\n",
              "      <td>-73.98377</td>\n",
              "      <td>Entire apartment</td>\n",
              "      <td>Entire home/apt</td>\n",
              "      <td>2</td>\n",
              "      <td>NaN</td>\n",
              "      <td>1 bath</td>\n",
              "      <td>NaN</td>\n",
              "      <td>1.0</td>\n",
              "      <td>[\"Hot water\", \"Stove\", \"Extra pillows and blan...</td>\n",
              "      <td>$175.00</td>\n",
              "      <td>3</td>\n",
              "      <td>1125</td>\n",
              "      <td>3.0</td>\n",
              "      <td>3.0</td>\n",
              "      <td>1125.0</td>\n",
              "      <td>1125.0</td>\n",
              "      <td>3.0</td>\n",
              "      <td>1125.0</td>\n",
              "      <td>NaN</td>\n",
              "      <td>t</td>\n",
              "      <td>30</td>\n",
              "      <td>60</td>\n",
              "      <td>90</td>\n",
              "      <td>365</td>\n",
              "      <td>2020-10-07</td>\n",
              "      <td>48</td>\n",
              "      <td>1</td>\n",
              "      <td>0</td>\n",
              "      <td>2009-11-21</td>\n",
              "      <td>2019-11-04</td>\n",
              "      <td>94.0</td>\n",
              "      <td>9.0</td>\n",
              "      <td>9.0</td>\n",
              "      <td>10.0</td>\n",
              "      <td>10.0</td>\n",
              "      <td>10.0</td>\n",
              "      <td>9.0</td>\n",
              "      <td>NaN</td>\n",
              "      <td>f</td>\n",
              "      <td>2</td>\n",
              "      <td>2</td>\n",
              "      <td>0</td>\n",
              "      <td>0</td>\n",
              "      <td>0.36</td>\n",
              "    </tr>\n",
              "    <tr>\n",
              "      <th>1</th>\n",
              "      <td>3831</td>\n",
              "      <td>https://www.airbnb.com/rooms/3831</td>\n",
              "      <td>20201005145859</td>\n",
              "      <td>2020-10-09</td>\n",
              "      <td>Whole flr w/private bdrm, bath &amp; kitchen(pls r...</td>\n",
              "      <td>Enjoy 500 s.f. top floor in 1899 brownstone, w...</td>\n",
              "      <td>Just the right mix of urban center and local n...</td>\n",
              "      <td>https://a0.muscache.com/pictures/e49999c2-9fd5...</td>\n",
              "      <td>4869</td>\n",
              "      <td>https://www.airbnb.com/users/show/4869</td>\n",
              "      <td>LisaRoxanne</td>\n",
              "      <td>2008-12-07</td>\n",
              "      <td>New York, New York, United States</td>\n",
              "      <td>Laid-back Native New Yorker (formerly bi-coast...</td>\n",
              "      <td>within an hour</td>\n",
              "      <td>98%</td>\n",
              "      <td>96%</td>\n",
              "      <td>f</td>\n",
              "      <td>https://a0.muscache.com/im/users/4869/profile_...</td>\n",
              "      <td>https://a0.muscache.com/im/users/4869/profile_...</td>\n",
              "      <td>Clinton Hill</td>\n",
              "      <td>1.0</td>\n",
              "      <td>1.0</td>\n",
              "      <td>['email', 'phone', 'reviews', 'offline_governm...</td>\n",
              "      <td>t</td>\n",
              "      <td>t</td>\n",
              "      <td>Brooklyn, New York, United States</td>\n",
              "      <td>Clinton Hill</td>\n",
              "      <td>Brooklyn</td>\n",
              "      <td>40.68514</td>\n",
              "      <td>-73.95976</td>\n",
              "      <td>Entire guest suite</td>\n",
              "      <td>Entire home/apt</td>\n",
              "      <td>3</td>\n",
              "      <td>NaN</td>\n",
              "      <td>1 bath</td>\n",
              "      <td>1.0</td>\n",
              "      <td>3.0</td>\n",
              "      <td>[\"Hot water\", \"Stove\", \"Free parking on premis...</td>\n",
              "      <td>$76.00</td>\n",
              "      <td>1</td>\n",
              "      <td>730</td>\n",
              "      <td>1.0</td>\n",
              "      <td>2.0</td>\n",
              "      <td>1125.0</td>\n",
              "      <td>1125.0</td>\n",
              "      <td>1.0</td>\n",
              "      <td>1125.0</td>\n",
              "      <td>NaN</td>\n",
              "      <td>t</td>\n",
              "      <td>2</td>\n",
              "      <td>2</td>\n",
              "      <td>2</td>\n",
              "      <td>2</td>\n",
              "      <td>2020-10-09</td>\n",
              "      <td>354</td>\n",
              "      <td>70</td>\n",
              "      <td>3</td>\n",
              "      <td>2014-09-30</td>\n",
              "      <td>2020-09-20</td>\n",
              "      <td>89.0</td>\n",
              "      <td>8.0</td>\n",
              "      <td>9.0</td>\n",
              "      <td>9.0</td>\n",
              "      <td>9.0</td>\n",
              "      <td>9.0</td>\n",
              "      <td>9.0</td>\n",
              "      <td>NaN</td>\n",
              "      <td>f</td>\n",
              "      <td>1</td>\n",
              "      <td>1</td>\n",
              "      <td>0</td>\n",
              "      <td>0</td>\n",
              "      <td>4.82</td>\n",
              "    </tr>\n",
              "    <tr>\n",
              "      <th>2</th>\n",
              "      <td>5121</td>\n",
              "      <td>https://www.airbnb.com/rooms/5121</td>\n",
              "      <td>20201005145859</td>\n",
              "      <td>2020-10-09</td>\n",
              "      <td>BlissArtsSpace!</td>\n",
              "      <td>&lt;b&gt;The space&lt;/b&gt;&lt;br /&gt;HELLO EVERYONE AND THANK...</td>\n",
              "      <td>NaN</td>\n",
              "      <td>https://a0.muscache.com/pictures/2090980c-b68e...</td>\n",
              "      <td>7356</td>\n",
              "      <td>https://www.airbnb.com/users/show/7356</td>\n",
              "      <td>Garon</td>\n",
              "      <td>2009-02-03</td>\n",
              "      <td>New York, New York, United States</td>\n",
              "      <td>I am an artist(painter, filmmaker) and curato...</td>\n",
              "      <td>NaN</td>\n",
              "      <td>NaN</td>\n",
              "      <td>100%</td>\n",
              "      <td>f</td>\n",
              "      <td>https://a0.muscache.com/im/pictures/user/72a61...</td>\n",
              "      <td>https://a0.muscache.com/im/pictures/user/72a61...</td>\n",
              "      <td>Bedford-Stuyvesant</td>\n",
              "      <td>1.0</td>\n",
              "      <td>1.0</td>\n",
              "      <td>['email', 'phone', 'facebook', 'reviews', 'off...</td>\n",
              "      <td>t</td>\n",
              "      <td>t</td>\n",
              "      <td>NaN</td>\n",
              "      <td>Bedford-Stuyvesant</td>\n",
              "      <td>Brooklyn</td>\n",
              "      <td>40.68688</td>\n",
              "      <td>-73.95596</td>\n",
              "      <td>Private room in apartment</td>\n",
              "      <td>Private room</td>\n",
              "      <td>2</td>\n",
              "      <td>NaN</td>\n",
              "      <td>NaN</td>\n",
              "      <td>1.0</td>\n",
              "      <td>1.0</td>\n",
              "      <td>[\"Wifi\", \"Air conditioning\", \"Heating\", \"Kitch...</td>\n",
              "      <td>$60.00</td>\n",
              "      <td>29</td>\n",
              "      <td>730</td>\n",
              "      <td>29.0</td>\n",
              "      <td>29.0</td>\n",
              "      <td>730.0</td>\n",
              "      <td>730.0</td>\n",
              "      <td>29.0</td>\n",
              "      <td>730.0</td>\n",
              "      <td>NaN</td>\n",
              "      <td>t</td>\n",
              "      <td>2</td>\n",
              "      <td>2</td>\n",
              "      <td>2</td>\n",
              "      <td>2</td>\n",
              "      <td>2020-10-09</td>\n",
              "      <td>50</td>\n",
              "      <td>1</td>\n",
              "      <td>0</td>\n",
              "      <td>2009-05-28</td>\n",
              "      <td>2019-12-02</td>\n",
              "      <td>90.0</td>\n",
              "      <td>8.0</td>\n",
              "      <td>8.0</td>\n",
              "      <td>10.0</td>\n",
              "      <td>10.0</td>\n",
              "      <td>9.0</td>\n",
              "      <td>9.0</td>\n",
              "      <td>NaN</td>\n",
              "      <td>f</td>\n",
              "      <td>1</td>\n",
              "      <td>0</td>\n",
              "      <td>1</td>\n",
              "      <td>0</td>\n",
              "      <td>0.36</td>\n",
              "    </tr>\n",
              "    <tr>\n",
              "      <th>3</th>\n",
              "      <td>5136</td>\n",
              "      <td>https://www.airbnb.com/rooms/5136</td>\n",
              "      <td>20201005145859</td>\n",
              "      <td>2020-10-08</td>\n",
              "      <td>Spacious Brooklyn Duplex, Patio + Garden</td>\n",
              "      <td>We welcome you to stay in our lovely 2 br dupl...</td>\n",
              "      <td>NaN</td>\n",
              "      <td>https://a0.muscache.com/pictures/a3f7ace8-e7a9...</td>\n",
              "      <td>7378</td>\n",
              "      <td>https://www.airbnb.com/users/show/7378</td>\n",
              "      <td>Rebecca</td>\n",
              "      <td>2009-02-03</td>\n",
              "      <td>New York, New York, United States</td>\n",
              "      <td>Rebecca is an artist/designer, and Henoch is i...</td>\n",
              "      <td>within a few hours</td>\n",
              "      <td>100%</td>\n",
              "      <td>NaN</td>\n",
              "      <td>f</td>\n",
              "      <td>https://a0.muscache.com/im/users/7378/profile_...</td>\n",
              "      <td>https://a0.muscache.com/im/users/7378/profile_...</td>\n",
              "      <td>Greenwood Heights</td>\n",
              "      <td>1.0</td>\n",
              "      <td>1.0</td>\n",
              "      <td>['email', 'phone', 'reviews']</td>\n",
              "      <td>t</td>\n",
              "      <td>f</td>\n",
              "      <td>NaN</td>\n",
              "      <td>Sunset Park</td>\n",
              "      <td>Brooklyn</td>\n",
              "      <td>40.66120</td>\n",
              "      <td>-73.99423</td>\n",
              "      <td>Entire apartment</td>\n",
              "      <td>Entire home/apt</td>\n",
              "      <td>4</td>\n",
              "      <td>NaN</td>\n",
              "      <td>1.5 baths</td>\n",
              "      <td>2.0</td>\n",
              "      <td>2.0</td>\n",
              "      <td>[\"Wifi\", \"Dryer\", \"Air conditioning\", \"Kitchen...</td>\n",
              "      <td>$175.00</td>\n",
              "      <td>7</td>\n",
              "      <td>1125</td>\n",
              "      <td>7.0</td>\n",
              "      <td>7.0</td>\n",
              "      <td>1125.0</td>\n",
              "      <td>1125.0</td>\n",
              "      <td>7.0</td>\n",
              "      <td>1125.0</td>\n",
              "      <td>NaN</td>\n",
              "      <td>t</td>\n",
              "      <td>24</td>\n",
              "      <td>54</td>\n",
              "      <td>84</td>\n",
              "      <td>359</td>\n",
              "      <td>2020-10-08</td>\n",
              "      <td>1</td>\n",
              "      <td>0</td>\n",
              "      <td>0</td>\n",
              "      <td>2014-01-02</td>\n",
              "      <td>2014-01-02</td>\n",
              "      <td>97.0</td>\n",
              "      <td>10.0</td>\n",
              "      <td>10.0</td>\n",
              "      <td>10.0</td>\n",
              "      <td>10.0</td>\n",
              "      <td>8.0</td>\n",
              "      <td>10.0</td>\n",
              "      <td>NaN</td>\n",
              "      <td>f</td>\n",
              "      <td>1</td>\n",
              "      <td>1</td>\n",
              "      <td>0</td>\n",
              "      <td>0</td>\n",
              "      <td>0.01</td>\n",
              "    </tr>\n",
              "    <tr>\n",
              "      <th>4</th>\n",
              "      <td>5178</td>\n",
              "      <td>https://www.airbnb.com/rooms/5178</td>\n",
              "      <td>20201005145859</td>\n",
              "      <td>2020-10-07</td>\n",
              "      <td>Large Furnished Room Near B'way</td>\n",
              "      <td>Please don’t expect the luxury here just a bas...</td>\n",
              "      <td>Theater district, many restaurants around here.</td>\n",
              "      <td>https://a0.muscache.com/pictures/12065/f070997...</td>\n",
              "      <td>8967</td>\n",
              "      <td>https://www.airbnb.com/users/show/8967</td>\n",
              "      <td>Shunichi</td>\n",
              "      <td>2009-03-03</td>\n",
              "      <td>New York, New York, United States</td>\n",
              "      <td>I used to work for a financial industry but no...</td>\n",
              "      <td>within a few hours</td>\n",
              "      <td>100%</td>\n",
              "      <td>100%</td>\n",
              "      <td>f</td>\n",
              "      <td>https://a0.muscache.com/im/users/8967/profile_...</td>\n",
              "      <td>https://a0.muscache.com/im/users/8967/profile_...</td>\n",
              "      <td>Hell's Kitchen</td>\n",
              "      <td>1.0</td>\n",
              "      <td>1.0</td>\n",
              "      <td>['email', 'phone', 'facebook', 'reviews']</td>\n",
              "      <td>t</td>\n",
              "      <td>f</td>\n",
              "      <td>New York, United States</td>\n",
              "      <td>Hell's Kitchen</td>\n",
              "      <td>Manhattan</td>\n",
              "      <td>40.76489</td>\n",
              "      <td>-73.98493</td>\n",
              "      <td>Private room in apartment</td>\n",
              "      <td>Private room</td>\n",
              "      <td>2</td>\n",
              "      <td>NaN</td>\n",
              "      <td>1 bath</td>\n",
              "      <td>1.0</td>\n",
              "      <td>1.0</td>\n",
              "      <td>[\"Wifi\", \"Hangers\", \"Air conditioning\", \"Paid ...</td>\n",
              "      <td>$73.00</td>\n",
              "      <td>2</td>\n",
              "      <td>14</td>\n",
              "      <td>2.0</td>\n",
              "      <td>2.0</td>\n",
              "      <td>14.0</td>\n",
              "      <td>14.0</td>\n",
              "      <td>2.0</td>\n",
              "      <td>14.0</td>\n",
              "      <td>NaN</td>\n",
              "      <td>t</td>\n",
              "      <td>29</td>\n",
              "      <td>53</td>\n",
              "      <td>78</td>\n",
              "      <td>350</td>\n",
              "      <td>2020-10-07</td>\n",
              "      <td>473</td>\n",
              "      <td>25</td>\n",
              "      <td>0</td>\n",
              "      <td>2009-05-06</td>\n",
              "      <td>2020-03-15</td>\n",
              "      <td>84.0</td>\n",
              "      <td>9.0</td>\n",
              "      <td>7.0</td>\n",
              "      <td>9.0</td>\n",
              "      <td>9.0</td>\n",
              "      <td>10.0</td>\n",
              "      <td>9.0</td>\n",
              "      <td>NaN</td>\n",
              "      <td>f</td>\n",
              "      <td>1</td>\n",
              "      <td>0</td>\n",
              "      <td>1</td>\n",
              "      <td>0</td>\n",
              "      <td>3.40</td>\n",
              "    </tr>\n",
              "  </tbody>\n",
              "</table>\n",
              "</div>"
            ],
            "text/plain": [
              "     id  ... reviews_per_month\n",
              "0  2595  ...              0.36\n",
              "1  3831  ...              4.82\n",
              "2  5121  ...              0.36\n",
              "3  5136  ...              0.01\n",
              "4  5178  ...              3.40\n",
              "\n",
              "[5 rows x 74 columns]"
            ]
          },
          "metadata": {
            "tags": []
          },
          "execution_count": 256
        }
      ]
    },
    {
      "cell_type": "code",
      "metadata": {
        "id": "N053Z-Ws59eW",
        "outputId": "f15b3c4f-d346-491f-d08d-2a0532c00edd",
        "colab": {
          "base_uri": "https://localhost:8080/"
        }
      },
      "source": [
        "raw.info()"
      ],
      "execution_count": null,
      "outputs": [
        {
          "output_type": "stream",
          "text": [
            "<class 'pandas.core.frame.DataFrame'>\n",
            "RangeIndex: 44666 entries, 0 to 44665\n",
            "Data columns (total 74 columns):\n",
            " #   Column                                        Non-Null Count  Dtype  \n",
            "---  ------                                        --------------  -----  \n",
            " 0   id                                            44666 non-null  int64  \n",
            " 1   listing_url                                   44666 non-null  object \n",
            " 2   scrape_id                                     44666 non-null  int64  \n",
            " 3   last_scraped                                  44666 non-null  object \n",
            " 4   name                                          44650 non-null  object \n",
            " 5   description                                   43385 non-null  object \n",
            " 6   neighborhood_overview                         28207 non-null  object \n",
            " 7   picture_url                                   44666 non-null  object \n",
            " 8   host_id                                       44666 non-null  int64  \n",
            " 9   host_url                                      44666 non-null  object \n",
            " 10  host_name                                     44649 non-null  object \n",
            " 11  host_since                                    44649 non-null  object \n",
            " 12  host_location                                 44524 non-null  object \n",
            " 13  host_about                                    26792 non-null  object \n",
            " 14  host_response_time                            21587 non-null  object \n",
            " 15  host_response_rate                            21587 non-null  object \n",
            " 16  host_acceptance_rate                          27801 non-null  object \n",
            " 17  host_is_superhost                             44649 non-null  object \n",
            " 18  host_thumbnail_url                            44649 non-null  object \n",
            " 19  host_picture_url                              44649 non-null  object \n",
            " 20  host_neighbourhood                            37386 non-null  object \n",
            " 21  host_listings_count                           44649 non-null  float64\n",
            " 22  host_total_listings_count                     44649 non-null  float64\n",
            " 23  host_verifications                            44666 non-null  object \n",
            " 24  host_has_profile_pic                          44649 non-null  object \n",
            " 25  host_identity_verified                        44649 non-null  object \n",
            " 26  neighbourhood                                 28208 non-null  object \n",
            " 27  neighbourhood_cleansed                        44666 non-null  object \n",
            " 28  neighbourhood_group_cleansed                  44666 non-null  object \n",
            " 29  latitude                                      44666 non-null  float64\n",
            " 30  longitude                                     44666 non-null  float64\n",
            " 31  property_type                                 44666 non-null  object \n",
            " 32  room_type                                     44666 non-null  object \n",
            " 33  accommodates                                  44666 non-null  int64  \n",
            " 34  bathrooms                                     0 non-null      float64\n",
            " 35  bathrooms_text                                44576 non-null  object \n",
            " 36  bedrooms                                      40407 non-null  float64\n",
            " 37  beds                                          44153 non-null  float64\n",
            " 38  amenities                                     44666 non-null  object \n",
            " 39  price                                         44666 non-null  object \n",
            " 40  minimum_nights                                44666 non-null  int64  \n",
            " 41  maximum_nights                                44666 non-null  int64  \n",
            " 42  minimum_minimum_nights                        44660 non-null  float64\n",
            " 43  maximum_minimum_nights                        44660 non-null  float64\n",
            " 44  minimum_maximum_nights                        44660 non-null  float64\n",
            " 45  maximum_maximum_nights                        44660 non-null  float64\n",
            " 46  minimum_nights_avg_ntm                        44660 non-null  float64\n",
            " 47  maximum_nights_avg_ntm                        44660 non-null  float64\n",
            " 48  calendar_updated                              0 non-null      float64\n",
            " 49  has_availability                              44666 non-null  object \n",
            " 50  availability_30                               44666 non-null  int64  \n",
            " 51  availability_60                               44666 non-null  int64  \n",
            " 52  availability_90                               44666 non-null  int64  \n",
            " 53  availability_365                              44666 non-null  int64  \n",
            " 54  calendar_last_scraped                         44666 non-null  object \n",
            " 55  number_of_reviews                             44666 non-null  int64  \n",
            " 56  number_of_reviews_ltm                         44666 non-null  int64  \n",
            " 57  number_of_reviews_l30d                        44666 non-null  int64  \n",
            " 58  first_review                                  34149 non-null  object \n",
            " 59  last_review                                   34149 non-null  object \n",
            " 60  review_scores_rating                          33102 non-null  float64\n",
            " 61  review_scores_accuracy                        33070 non-null  float64\n",
            " 62  review_scores_cleanliness                     33083 non-null  float64\n",
            " 63  review_scores_checkin                         33055 non-null  float64\n",
            " 64  review_scores_communication                   33075 non-null  float64\n",
            " 65  review_scores_location                        33050 non-null  float64\n",
            " 66  review_scores_value                           33051 non-null  float64\n",
            " 67  license                                       0 non-null      float64\n",
            " 68  instant_bookable                              44666 non-null  object \n",
            " 69  calculated_host_listings_count                44666 non-null  int64  \n",
            " 70  calculated_host_listings_count_entire_homes   44666 non-null  int64  \n",
            " 71  calculated_host_listings_count_private_rooms  44666 non-null  int64  \n",
            " 72  calculated_host_listings_count_shared_rooms   44666 non-null  int64  \n",
            " 73  reviews_per_month                             34149 non-null  float64\n",
            "dtypes: float64(23), int64(17), object(34)\n",
            "memory usage: 25.2+ MB\n"
          ],
          "name": "stdout"
        }
      ]
    },
    {
      "cell_type": "code",
      "metadata": {
        "id": "Qx8ZNrR-WTJu",
        "outputId": "0308f676-f041-4d59-9d7c-c7bf8ba61fb7",
        "colab": {
          "base_uri": "https://localhost:8080/",
          "height": 317
        }
      },
      "source": [
        "round(raw.describe(),2)"
      ],
      "execution_count": null,
      "outputs": [
        {
          "output_type": "execute_result",
          "data": {
            "text/html": [
              "<div>\n",
              "<style scoped>\n",
              "    .dataframe tbody tr th:only-of-type {\n",
              "        vertical-align: middle;\n",
              "    }\n",
              "\n",
              "    .dataframe tbody tr th {\n",
              "        vertical-align: top;\n",
              "    }\n",
              "\n",
              "    .dataframe thead th {\n",
              "        text-align: right;\n",
              "    }\n",
              "</style>\n",
              "<table border=\"1\" class=\"dataframe\">\n",
              "  <thead>\n",
              "    <tr style=\"text-align: right;\">\n",
              "      <th></th>\n",
              "      <th>id</th>\n",
              "      <th>scrape_id</th>\n",
              "      <th>host_id</th>\n",
              "      <th>host_listings_count</th>\n",
              "      <th>host_total_listings_count</th>\n",
              "      <th>latitude</th>\n",
              "      <th>longitude</th>\n",
              "      <th>accommodates</th>\n",
              "      <th>bathrooms</th>\n",
              "      <th>bedrooms</th>\n",
              "      <th>beds</th>\n",
              "      <th>minimum_nights</th>\n",
              "      <th>maximum_nights</th>\n",
              "      <th>minimum_minimum_nights</th>\n",
              "      <th>maximum_minimum_nights</th>\n",
              "      <th>minimum_maximum_nights</th>\n",
              "      <th>maximum_maximum_nights</th>\n",
              "      <th>minimum_nights_avg_ntm</th>\n",
              "      <th>maximum_nights_avg_ntm</th>\n",
              "      <th>calendar_updated</th>\n",
              "      <th>availability_30</th>\n",
              "      <th>availability_60</th>\n",
              "      <th>availability_90</th>\n",
              "      <th>availability_365</th>\n",
              "      <th>number_of_reviews</th>\n",
              "      <th>number_of_reviews_ltm</th>\n",
              "      <th>number_of_reviews_l30d</th>\n",
              "      <th>review_scores_rating</th>\n",
              "      <th>review_scores_accuracy</th>\n",
              "      <th>review_scores_cleanliness</th>\n",
              "      <th>review_scores_checkin</th>\n",
              "      <th>review_scores_communication</th>\n",
              "      <th>review_scores_location</th>\n",
              "      <th>review_scores_value</th>\n",
              "      <th>license</th>\n",
              "      <th>calculated_host_listings_count</th>\n",
              "      <th>calculated_host_listings_count_entire_homes</th>\n",
              "      <th>calculated_host_listings_count_private_rooms</th>\n",
              "      <th>calculated_host_listings_count_shared_rooms</th>\n",
              "      <th>reviews_per_month</th>\n",
              "    </tr>\n",
              "  </thead>\n",
              "  <tbody>\n",
              "    <tr>\n",
              "      <th>count</th>\n",
              "      <td>44666.00</td>\n",
              "      <td>4.466600e+04</td>\n",
              "      <td>4.466600e+04</td>\n",
              "      <td>44649.00</td>\n",
              "      <td>44649.00</td>\n",
              "      <td>44666.00</td>\n",
              "      <td>44666.00</td>\n",
              "      <td>44666.00</td>\n",
              "      <td>0.0</td>\n",
              "      <td>40407.00</td>\n",
              "      <td>44153.00</td>\n",
              "      <td>44666.00</td>\n",
              "      <td>4.466600e+04</td>\n",
              "      <td>44660.00</td>\n",
              "      <td>44660.00</td>\n",
              "      <td>4.466000e+04</td>\n",
              "      <td>4.466000e+04</td>\n",
              "      <td>44660.00</td>\n",
              "      <td>4.466000e+04</td>\n",
              "      <td>0.0</td>\n",
              "      <td>44666.00</td>\n",
              "      <td>44666.00</td>\n",
              "      <td>44666.00</td>\n",
              "      <td>44666.00</td>\n",
              "      <td>44666.00</td>\n",
              "      <td>44666.00</td>\n",
              "      <td>44666.00</td>\n",
              "      <td>33102.00</td>\n",
              "      <td>33070.00</td>\n",
              "      <td>33083.00</td>\n",
              "      <td>33055.00</td>\n",
              "      <td>33075.00</td>\n",
              "      <td>33050.00</td>\n",
              "      <td>33051.00</td>\n",
              "      <td>0.0</td>\n",
              "      <td>44666.00</td>\n",
              "      <td>44666.00</td>\n",
              "      <td>44666.00</td>\n",
              "      <td>44666.00</td>\n",
              "      <td>34149.00</td>\n",
              "    </tr>\n",
              "    <tr>\n",
              "      <th>mean</th>\n",
              "      <td>23227109.25</td>\n",
              "      <td>2.020101e+13</td>\n",
              "      <td>8.531840e+07</td>\n",
              "      <td>15.82</td>\n",
              "      <td>15.82</td>\n",
              "      <td>40.73</td>\n",
              "      <td>-73.95</td>\n",
              "      <td>2.76</td>\n",
              "      <td>NaN</td>\n",
              "      <td>1.29</td>\n",
              "      <td>1.51</td>\n",
              "      <td>9.30</td>\n",
              "      <td>4.956784e+04</td>\n",
              "      <td>9.42</td>\n",
              "      <td>13.31</td>\n",
              "      <td>1.155654e+06</td>\n",
              "      <td>2.309702e+06</td>\n",
              "      <td>12.96</td>\n",
              "      <td>2.213198e+06</td>\n",
              "      <td>NaN</td>\n",
              "      <td>8.14</td>\n",
              "      <td>18.57</td>\n",
              "      <td>29.67</td>\n",
              "      <td>105.42</td>\n",
              "      <td>22.46</td>\n",
              "      <td>4.15</td>\n",
              "      <td>0.19</td>\n",
              "      <td>93.85</td>\n",
              "      <td>9.60</td>\n",
              "      <td>9.27</td>\n",
              "      <td>9.72</td>\n",
              "      <td>9.73</td>\n",
              "      <td>9.59</td>\n",
              "      <td>9.39</td>\n",
              "      <td>NaN</td>\n",
              "      <td>6.67</td>\n",
              "      <td>3.62</td>\n",
              "      <td>2.85</td>\n",
              "      <td>0.09</td>\n",
              "      <td>0.86</td>\n",
              "    </tr>\n",
              "    <tr>\n",
              "      <th>std</th>\n",
              "      <td>13982124.33</td>\n",
              "      <td>2.850000e+00</td>\n",
              "      <td>1.001533e+08</td>\n",
              "      <td>117.94</td>\n",
              "      <td>117.94</td>\n",
              "      <td>0.06</td>\n",
              "      <td>0.05</td>\n",
              "      <td>1.80</td>\n",
              "      <td>NaN</td>\n",
              "      <td>0.68</td>\n",
              "      <td>1.09</td>\n",
              "      <td>24.23</td>\n",
              "      <td>1.016199e+07</td>\n",
              "      <td>29.03</td>\n",
              "      <td>57.99</td>\n",
              "      <td>4.976976e+07</td>\n",
              "      <td>7.036601e+07</td>\n",
              "      <td>56.60</td>\n",
              "      <td>6.881096e+07</td>\n",
              "      <td>NaN</td>\n",
              "      <td>12.06</td>\n",
              "      <td>24.99</td>\n",
              "      <td>37.93</td>\n",
              "      <td>139.52</td>\n",
              "      <td>46.66</td>\n",
              "      <td>9.89</td>\n",
              "      <td>0.91</td>\n",
              "      <td>9.42</td>\n",
              "      <td>0.92</td>\n",
              "      <td>1.14</td>\n",
              "      <td>0.81</td>\n",
              "      <td>0.83</td>\n",
              "      <td>0.80</td>\n",
              "      <td>0.99</td>\n",
              "      <td>NaN</td>\n",
              "      <td>24.85</td>\n",
              "      <td>19.91</td>\n",
              "      <td>13.94</td>\n",
              "      <td>0.94</td>\n",
              "      <td>1.27</td>\n",
              "    </tr>\n",
              "    <tr>\n",
              "      <th>min</th>\n",
              "      <td>2595.00</td>\n",
              "      <td>2.020101e+13</td>\n",
              "      <td>2.438000e+03</td>\n",
              "      <td>0.00</td>\n",
              "      <td>0.00</td>\n",
              "      <td>40.51</td>\n",
              "      <td>-74.24</td>\n",
              "      <td>0.00</td>\n",
              "      <td>NaN</td>\n",
              "      <td>1.00</td>\n",
              "      <td>0.00</td>\n",
              "      <td>1.00</td>\n",
              "      <td>1.000000e+00</td>\n",
              "      <td>1.00</td>\n",
              "      <td>1.00</td>\n",
              "      <td>1.000000e+00</td>\n",
              "      <td>1.000000e+00</td>\n",
              "      <td>1.00</td>\n",
              "      <td>1.000000e+00</td>\n",
              "      <td>NaN</td>\n",
              "      <td>0.00</td>\n",
              "      <td>0.00</td>\n",
              "      <td>0.00</td>\n",
              "      <td>0.00</td>\n",
              "      <td>0.00</td>\n",
              "      <td>0.00</td>\n",
              "      <td>0.00</td>\n",
              "      <td>20.00</td>\n",
              "      <td>2.00</td>\n",
              "      <td>2.00</td>\n",
              "      <td>2.00</td>\n",
              "      <td>2.00</td>\n",
              "      <td>2.00</td>\n",
              "      <td>2.00</td>\n",
              "      <td>NaN</td>\n",
              "      <td>1.00</td>\n",
              "      <td>0.00</td>\n",
              "      <td>0.00</td>\n",
              "      <td>0.00</td>\n",
              "      <td>0.01</td>\n",
              "    </tr>\n",
              "    <tr>\n",
              "      <th>25%</th>\n",
              "      <td>10555067.75</td>\n",
              "      <td>2.020101e+13</td>\n",
              "      <td>9.354841e+06</td>\n",
              "      <td>1.00</td>\n",
              "      <td>1.00</td>\n",
              "      <td>40.69</td>\n",
              "      <td>-73.98</td>\n",
              "      <td>2.00</td>\n",
              "      <td>NaN</td>\n",
              "      <td>1.00</td>\n",
              "      <td>1.00</td>\n",
              "      <td>2.00</td>\n",
              "      <td>2.900000e+01</td>\n",
              "      <td>2.00</td>\n",
              "      <td>2.00</td>\n",
              "      <td>3.000000e+01</td>\n",
              "      <td>3.100000e+01</td>\n",
              "      <td>2.00</td>\n",
              "      <td>3.100000e+01</td>\n",
              "      <td>NaN</td>\n",
              "      <td>0.00</td>\n",
              "      <td>0.00</td>\n",
              "      <td>0.00</td>\n",
              "      <td>0.00</td>\n",
              "      <td>1.00</td>\n",
              "      <td>0.00</td>\n",
              "      <td>0.00</td>\n",
              "      <td>92.00</td>\n",
              "      <td>9.00</td>\n",
              "      <td>9.00</td>\n",
              "      <td>10.00</td>\n",
              "      <td>10.00</td>\n",
              "      <td>9.00</td>\n",
              "      <td>9.00</td>\n",
              "      <td>NaN</td>\n",
              "      <td>1.00</td>\n",
              "      <td>0.00</td>\n",
              "      <td>0.00</td>\n",
              "      <td>0.00</td>\n",
              "      <td>0.11</td>\n",
              "    </tr>\n",
              "    <tr>\n",
              "      <th>50%</th>\n",
              "      <td>22266056.00</td>\n",
              "      <td>2.020101e+13</td>\n",
              "      <td>3.785493e+07</td>\n",
              "      <td>1.00</td>\n",
              "      <td>1.00</td>\n",
              "      <td>40.72</td>\n",
              "      <td>-73.96</td>\n",
              "      <td>2.00</td>\n",
              "      <td>NaN</td>\n",
              "      <td>1.00</td>\n",
              "      <td>1.00</td>\n",
              "      <td>3.00</td>\n",
              "      <td>3.650000e+02</td>\n",
              "      <td>3.00</td>\n",
              "      <td>3.00</td>\n",
              "      <td>1.125000e+03</td>\n",
              "      <td>1.125000e+03</td>\n",
              "      <td>3.00</td>\n",
              "      <td>1.125000e+03</td>\n",
              "      <td>NaN</td>\n",
              "      <td>0.00</td>\n",
              "      <td>0.00</td>\n",
              "      <td>0.00</td>\n",
              "      <td>1.00</td>\n",
              "      <td>4.00</td>\n",
              "      <td>0.00</td>\n",
              "      <td>0.00</td>\n",
              "      <td>97.00</td>\n",
              "      <td>10.00</td>\n",
              "      <td>10.00</td>\n",
              "      <td>10.00</td>\n",
              "      <td>10.00</td>\n",
              "      <td>10.00</td>\n",
              "      <td>10.00</td>\n",
              "      <td>NaN</td>\n",
              "      <td>1.00</td>\n",
              "      <td>1.00</td>\n",
              "      <td>1.00</td>\n",
              "      <td>0.00</td>\n",
              "      <td>0.35</td>\n",
              "    </tr>\n",
              "    <tr>\n",
              "      <th>75%</th>\n",
              "      <td>36239497.50</td>\n",
              "      <td>2.020101e+13</td>\n",
              "      <td>1.373589e+08</td>\n",
              "      <td>2.00</td>\n",
              "      <td>2.00</td>\n",
              "      <td>40.76</td>\n",
              "      <td>-73.93</td>\n",
              "      <td>4.00</td>\n",
              "      <td>NaN</td>\n",
              "      <td>1.00</td>\n",
              "      <td>2.00</td>\n",
              "      <td>7.00</td>\n",
              "      <td>1.125000e+03</td>\n",
              "      <td>7.00</td>\n",
              "      <td>7.00</td>\n",
              "      <td>1.125000e+03</td>\n",
              "      <td>1.125000e+03</td>\n",
              "      <td>7.00</td>\n",
              "      <td>1.125000e+03</td>\n",
              "      <td>NaN</td>\n",
              "      <td>20.00</td>\n",
              "      <td>47.00</td>\n",
              "      <td>73.00</td>\n",
              "      <td>189.00</td>\n",
              "      <td>20.00</td>\n",
              "      <td>4.00</td>\n",
              "      <td>0.00</td>\n",
              "      <td>100.00</td>\n",
              "      <td>10.00</td>\n",
              "      <td>10.00</td>\n",
              "      <td>10.00</td>\n",
              "      <td>10.00</td>\n",
              "      <td>10.00</td>\n",
              "      <td>10.00</td>\n",
              "      <td>NaN</td>\n",
              "      <td>2.00</td>\n",
              "      <td>1.00</td>\n",
              "      <td>1.00</td>\n",
              "      <td>0.00</td>\n",
              "      <td>1.13</td>\n",
              "    </tr>\n",
              "    <tr>\n",
              "      <th>max</th>\n",
              "      <td>45730924.00</td>\n",
              "      <td>2.020101e+13</td>\n",
              "      <td>3.705121e+08</td>\n",
              "      <td>2114.00</td>\n",
              "      <td>2114.00</td>\n",
              "      <td>40.91</td>\n",
              "      <td>-73.71</td>\n",
              "      <td>16.00</td>\n",
              "      <td>NaN</td>\n",
              "      <td>21.00</td>\n",
              "      <td>40.00</td>\n",
              "      <td>1250.00</td>\n",
              "      <td>2.147484e+09</td>\n",
              "      <td>1250.00</td>\n",
              "      <td>1250.00</td>\n",
              "      <td>2.147484e+09</td>\n",
              "      <td>2.147484e+09</td>\n",
              "      <td>1250.00</td>\n",
              "      <td>2.147484e+09</td>\n",
              "      <td>NaN</td>\n",
              "      <td>30.00</td>\n",
              "      <td>60.00</td>\n",
              "      <td>90.00</td>\n",
              "      <td>365.00</td>\n",
              "      <td>746.00</td>\n",
              "      <td>473.00</td>\n",
              "      <td>44.00</td>\n",
              "      <td>100.00</td>\n",
              "      <td>10.00</td>\n",
              "      <td>10.00</td>\n",
              "      <td>10.00</td>\n",
              "      <td>10.00</td>\n",
              "      <td>10.00</td>\n",
              "      <td>10.00</td>\n",
              "      <td>NaN</td>\n",
              "      <td>239.00</td>\n",
              "      <td>239.00</td>\n",
              "      <td>134.00</td>\n",
              "      <td>28.00</td>\n",
              "      <td>41.37</td>\n",
              "    </tr>\n",
              "  </tbody>\n",
              "</table>\n",
              "</div>"
            ],
            "text/plain": [
              "                id  ...  reviews_per_month\n",
              "count     44666.00  ...           34149.00\n",
              "mean   23227109.25  ...               0.86\n",
              "std    13982124.33  ...               1.27\n",
              "min        2595.00  ...               0.01\n",
              "25%    10555067.75  ...               0.11\n",
              "50%    22266056.00  ...               0.35\n",
              "75%    36239497.50  ...               1.13\n",
              "max    45730924.00  ...              41.37\n",
              "\n",
              "[8 rows x 40 columns]"
            ]
          },
          "metadata": {
            "tags": []
          },
          "execution_count": 258
        }
      ]
    },
    {
      "cell_type": "markdown",
      "metadata": {
        "id": "l-IesxNRMKNY"
      },
      "source": [
        "## Checking for Duplicates"
      ]
    },
    {
      "cell_type": "markdown",
      "metadata": {
        "id": "brTTaosWJluA"
      },
      "source": [
        "Checking for duplicates in this dataset is very nuanced. There may be a case where a data point could be a duplicate or could be a listing identical in description but actually different listings (e.g. a host that has two listings that are very similar that are both rentable). This means that there is some manual checking and personal judgement that may be required to determine whether or not the data row is a duplicate."
      ]
    },
    {
      "cell_type": "code",
      "metadata": {
        "id": "SP8fz1uqJ8iw",
        "outputId": "dd7e73f6-fd37-4288-ede7-0c20b92d89da",
        "colab": {
          "base_uri": "https://localhost:8080/"
        }
      },
      "source": [
        "raw.columns"
      ],
      "execution_count": null,
      "outputs": [
        {
          "output_type": "execute_result",
          "data": {
            "text/plain": [
              "Index(['id', 'listing_url', 'scrape_id', 'last_scraped', 'name', 'description',\n",
              "       'neighborhood_overview', 'picture_url', 'host_id', 'host_url',\n",
              "       'host_name', 'host_since', 'host_location', 'host_about',\n",
              "       'host_response_time', 'host_response_rate', 'host_acceptance_rate',\n",
              "       'host_is_superhost', 'host_thumbnail_url', 'host_picture_url',\n",
              "       'host_neighbourhood', 'host_listings_count',\n",
              "       'host_total_listings_count', 'host_verifications',\n",
              "       'host_has_profile_pic', 'host_identity_verified', 'neighbourhood',\n",
              "       'neighbourhood_cleansed', 'neighbourhood_group_cleansed', 'latitude',\n",
              "       'longitude', 'property_type', 'room_type', 'accommodates', 'bathrooms',\n",
              "       'bathrooms_text', 'bedrooms', 'beds', 'amenities', 'price',\n",
              "       'minimum_nights', 'maximum_nights', 'minimum_minimum_nights',\n",
              "       'maximum_minimum_nights', 'minimum_maximum_nights',\n",
              "       'maximum_maximum_nights', 'minimum_nights_avg_ntm',\n",
              "       'maximum_nights_avg_ntm', 'calendar_updated', 'has_availability',\n",
              "       'availability_30', 'availability_60', 'availability_90',\n",
              "       'availability_365', 'calendar_last_scraped', 'number_of_reviews',\n",
              "       'number_of_reviews_ltm', 'number_of_reviews_l30d', 'first_review',\n",
              "       'last_review', 'review_scores_rating', 'review_scores_accuracy',\n",
              "       'review_scores_cleanliness', 'review_scores_checkin',\n",
              "       'review_scores_communication', 'review_scores_location',\n",
              "       'review_scores_value', 'license', 'instant_bookable',\n",
              "       'calculated_host_listings_count',\n",
              "       'calculated_host_listings_count_entire_homes',\n",
              "       'calculated_host_listings_count_private_rooms',\n",
              "       'calculated_host_listings_count_shared_rooms', 'reviews_per_month'],\n",
              "      dtype='object')"
            ]
          },
          "metadata": {
            "tags": []
          },
          "execution_count": 259
        }
      ]
    },
    {
      "cell_type": "code",
      "metadata": {
        "id": "KhiBCxuzLjhm",
        "outputId": "bdccfe0a-70c1-4792-eace-3fc2bdf5ea8a",
        "colab": {
          "base_uri": "https://localhost:8080/"
        }
      },
      "source": [
        "dup = raw.duplicated(subset=['id'], keep=False)\n",
        "raw[dup]"
      ],
      "execution_count": null,
      "outputs": [
        {
          "output_type": "execute_result",
          "data": {
            "text/html": [
              "<div>\n",
              "<style scoped>\n",
              "    .dataframe tbody tr th:only-of-type {\n",
              "        vertical-align: middle;\n",
              "    }\n",
              "\n",
              "    .dataframe tbody tr th {\n",
              "        vertical-align: top;\n",
              "    }\n",
              "\n",
              "    .dataframe thead th {\n",
              "        text-align: right;\n",
              "    }\n",
              "</style>\n",
              "<table border=\"1\" class=\"dataframe\">\n",
              "  <thead>\n",
              "    <tr style=\"text-align: right;\">\n",
              "      <th></th>\n",
              "      <th>id</th>\n",
              "      <th>listing_url</th>\n",
              "      <th>scrape_id</th>\n",
              "      <th>last_scraped</th>\n",
              "      <th>name</th>\n",
              "      <th>description</th>\n",
              "      <th>neighborhood_overview</th>\n",
              "      <th>picture_url</th>\n",
              "      <th>host_id</th>\n",
              "      <th>host_url</th>\n",
              "      <th>host_name</th>\n",
              "      <th>host_since</th>\n",
              "      <th>host_location</th>\n",
              "      <th>host_about</th>\n",
              "      <th>host_response_time</th>\n",
              "      <th>host_response_rate</th>\n",
              "      <th>host_acceptance_rate</th>\n",
              "      <th>host_is_superhost</th>\n",
              "      <th>host_thumbnail_url</th>\n",
              "      <th>host_picture_url</th>\n",
              "      <th>host_neighbourhood</th>\n",
              "      <th>host_listings_count</th>\n",
              "      <th>host_total_listings_count</th>\n",
              "      <th>host_verifications</th>\n",
              "      <th>host_has_profile_pic</th>\n",
              "      <th>host_identity_verified</th>\n",
              "      <th>neighbourhood</th>\n",
              "      <th>neighbourhood_cleansed</th>\n",
              "      <th>neighbourhood_group_cleansed</th>\n",
              "      <th>latitude</th>\n",
              "      <th>longitude</th>\n",
              "      <th>property_type</th>\n",
              "      <th>room_type</th>\n",
              "      <th>accommodates</th>\n",
              "      <th>bathrooms</th>\n",
              "      <th>bathrooms_text</th>\n",
              "      <th>bedrooms</th>\n",
              "      <th>beds</th>\n",
              "      <th>amenities</th>\n",
              "      <th>price</th>\n",
              "      <th>minimum_nights</th>\n",
              "      <th>maximum_nights</th>\n",
              "      <th>minimum_minimum_nights</th>\n",
              "      <th>maximum_minimum_nights</th>\n",
              "      <th>minimum_maximum_nights</th>\n",
              "      <th>maximum_maximum_nights</th>\n",
              "      <th>minimum_nights_avg_ntm</th>\n",
              "      <th>maximum_nights_avg_ntm</th>\n",
              "      <th>calendar_updated</th>\n",
              "      <th>has_availability</th>\n",
              "      <th>availability_30</th>\n",
              "      <th>availability_60</th>\n",
              "      <th>availability_90</th>\n",
              "      <th>availability_365</th>\n",
              "      <th>calendar_last_scraped</th>\n",
              "      <th>number_of_reviews</th>\n",
              "      <th>number_of_reviews_ltm</th>\n",
              "      <th>number_of_reviews_l30d</th>\n",
              "      <th>first_review</th>\n",
              "      <th>last_review</th>\n",
              "      <th>review_scores_rating</th>\n",
              "      <th>review_scores_accuracy</th>\n",
              "      <th>review_scores_cleanliness</th>\n",
              "      <th>review_scores_checkin</th>\n",
              "      <th>review_scores_communication</th>\n",
              "      <th>review_scores_location</th>\n",
              "      <th>review_scores_value</th>\n",
              "      <th>license</th>\n",
              "      <th>instant_bookable</th>\n",
              "      <th>calculated_host_listings_count</th>\n",
              "      <th>calculated_host_listings_count_entire_homes</th>\n",
              "      <th>calculated_host_listings_count_private_rooms</th>\n",
              "      <th>calculated_host_listings_count_shared_rooms</th>\n",
              "      <th>reviews_per_month</th>\n",
              "    </tr>\n",
              "  </thead>\n",
              "  <tbody>\n",
              "  </tbody>\n",
              "</table>\n",
              "</div>"
            ],
            "text/plain": [
              "Empty DataFrame\n",
              "Columns: [id, listing_url, scrape_id, last_scraped, name, description, neighborhood_overview, picture_url, host_id, host_url, host_name, host_since, host_location, host_about, host_response_time, host_response_rate, host_acceptance_rate, host_is_superhost, host_thumbnail_url, host_picture_url, host_neighbourhood, host_listings_count, host_total_listings_count, host_verifications, host_has_profile_pic, host_identity_verified, neighbourhood, neighbourhood_cleansed, neighbourhood_group_cleansed, latitude, longitude, property_type, room_type, accommodates, bathrooms, bathrooms_text, bedrooms, beds, amenities, price, minimum_nights, maximum_nights, minimum_minimum_nights, maximum_minimum_nights, minimum_maximum_nights, maximum_maximum_nights, minimum_nights_avg_ntm, maximum_nights_avg_ntm, calendar_updated, has_availability, availability_30, availability_60, availability_90, availability_365, calendar_last_scraped, number_of_reviews, number_of_reviews_ltm, number_of_reviews_l30d, first_review, last_review, review_scores_rating, review_scores_accuracy, review_scores_cleanliness, review_scores_checkin, review_scores_communication, review_scores_location, review_scores_value, license, instant_bookable, calculated_host_listings_count, calculated_host_listings_count_entire_homes, calculated_host_listings_count_private_rooms, calculated_host_listings_count_shared_rooms, reviews_per_month]\n",
              "Index: []"
            ]
          },
          "metadata": {
            "tags": []
          },
          "execution_count": 260
        }
      ]
    },
    {
      "cell_type": "markdown",
      "metadata": {
        "id": "bqwKelTfpTp5"
      },
      "source": [
        "It seems there are no duplicate entries in our dataset based on the ID of the listing. With that said, there may be duplicate listings under the same conditions."
      ]
    },
    {
      "cell_type": "code",
      "metadata": {
        "id": "3QK7GCYYJl74",
        "outputId": "dcd3e7ce-4e90-4a7d-b7ce-091a3596d0a2",
        "colab": {
          "base_uri": "https://localhost:8080/"
        }
      },
      "source": [
        "dup = raw.duplicated(subset=['name','latitude','longitude','host_id'], keep=False)\n",
        "raw[dup].sort_values('name').info()"
      ],
      "execution_count": null,
      "outputs": [
        {
          "output_type": "stream",
          "text": [
            "<class 'pandas.core.frame.DataFrame'>\n",
            "Int64Index: 53 entries, 25597 to 257\n",
            "Data columns (total 74 columns):\n",
            " #   Column                                        Non-Null Count  Dtype  \n",
            "---  ------                                        --------------  -----  \n",
            " 0   id                                            53 non-null     int64  \n",
            " 1   listing_url                                   53 non-null     object \n",
            " 2   scrape_id                                     53 non-null     int64  \n",
            " 3   last_scraped                                  53 non-null     object \n",
            " 4   name                                          53 non-null     object \n",
            " 5   description                                   53 non-null     object \n",
            " 6   neighborhood_overview                         1 non-null      object \n",
            " 7   picture_url                                   53 non-null     object \n",
            " 8   host_id                                       53 non-null     int64  \n",
            " 9   host_url                                      53 non-null     object \n",
            " 10  host_name                                     53 non-null     object \n",
            " 11  host_since                                    53 non-null     object \n",
            " 12  host_location                                 53 non-null     object \n",
            " 13  host_about                                    26 non-null     object \n",
            " 14  host_response_time                            53 non-null     object \n",
            " 15  host_response_rate                            53 non-null     object \n",
            " 16  host_acceptance_rate                          53 non-null     object \n",
            " 17  host_is_superhost                             53 non-null     object \n",
            " 18  host_thumbnail_url                            53 non-null     object \n",
            " 19  host_picture_url                              53 non-null     object \n",
            " 20  host_neighbourhood                            51 non-null     object \n",
            " 21  host_listings_count                           53 non-null     float64\n",
            " 22  host_total_listings_count                     53 non-null     float64\n",
            " 23  host_verifications                            53 non-null     object \n",
            " 24  host_has_profile_pic                          53 non-null     object \n",
            " 25  host_identity_verified                        53 non-null     object \n",
            " 26  neighbourhood                                 1 non-null      object \n",
            " 27  neighbourhood_cleansed                        53 non-null     object \n",
            " 28  neighbourhood_group_cleansed                  53 non-null     object \n",
            " 29  latitude                                      53 non-null     float64\n",
            " 30  longitude                                     53 non-null     float64\n",
            " 31  property_type                                 53 non-null     object \n",
            " 32  room_type                                     53 non-null     object \n",
            " 33  accommodates                                  53 non-null     int64  \n",
            " 34  bathrooms                                     0 non-null      float64\n",
            " 35  bathrooms_text                                53 non-null     object \n",
            " 36  bedrooms                                      43 non-null     float64\n",
            " 37  beds                                          53 non-null     float64\n",
            " 38  amenities                                     53 non-null     object \n",
            " 39  price                                         53 non-null     object \n",
            " 40  minimum_nights                                53 non-null     int64  \n",
            " 41  maximum_nights                                53 non-null     int64  \n",
            " 42  minimum_minimum_nights                        53 non-null     float64\n",
            " 43  maximum_minimum_nights                        53 non-null     float64\n",
            " 44  minimum_maximum_nights                        53 non-null     float64\n",
            " 45  maximum_maximum_nights                        53 non-null     float64\n",
            " 46  minimum_nights_avg_ntm                        53 non-null     float64\n",
            " 47  maximum_nights_avg_ntm                        53 non-null     float64\n",
            " 48  calendar_updated                              0 non-null      float64\n",
            " 49  has_availability                              53 non-null     object \n",
            " 50  availability_30                               53 non-null     int64  \n",
            " 51  availability_60                               53 non-null     int64  \n",
            " 52  availability_90                               53 non-null     int64  \n",
            " 53  availability_365                              53 non-null     int64  \n",
            " 54  calendar_last_scraped                         53 non-null     object \n",
            " 55  number_of_reviews                             53 non-null     int64  \n",
            " 56  number_of_reviews_ltm                         53 non-null     int64  \n",
            " 57  number_of_reviews_l30d                        53 non-null     int64  \n",
            " 58  first_review                                  38 non-null     object \n",
            " 59  last_review                                   38 non-null     object \n",
            " 60  review_scores_rating                          38 non-null     float64\n",
            " 61  review_scores_accuracy                        38 non-null     float64\n",
            " 62  review_scores_cleanliness                     38 non-null     float64\n",
            " 63  review_scores_checkin                         38 non-null     float64\n",
            " 64  review_scores_communication                   38 non-null     float64\n",
            " 65  review_scores_location                        38 non-null     float64\n",
            " 66  review_scores_value                           38 non-null     float64\n",
            " 67  license                                       0 non-null      float64\n",
            " 68  instant_bookable                              53 non-null     object \n",
            " 69  calculated_host_listings_count                53 non-null     int64  \n",
            " 70  calculated_host_listings_count_entire_homes   53 non-null     int64  \n",
            " 71  calculated_host_listings_count_private_rooms  53 non-null     int64  \n",
            " 72  calculated_host_listings_count_shared_rooms   53 non-null     int64  \n",
            " 73  reviews_per_month                             38 non-null     float64\n",
            "dtypes: float64(23), int64(17), object(34)\n",
            "memory usage: 31.1+ KB\n"
          ],
          "name": "stdout"
        }
      ]
    },
    {
      "cell_type": "markdown",
      "metadata": {
        "id": "-NU34jfjsx5s"
      },
      "source": [
        "As seen above, there do seem to be a number of duplicates based on the listing name, location, and host. The question is now whether or not we should deal with these duplicates.\n",
        "\n",
        "The issue is these duplicate rows may be...\n",
        "\n",
        "\n",
        "*   errors (e.g. host creates a new listing and forgets to delete the old one)\n",
        "*   intentional (e.g. a hotel lists 10 identical but different rooms)\n",
        "*   or both (e.g. [host creates duplicate of single listing to increase listing exposure](https://www.reddit.com/r/AirBnB/comments/3w9uo7/duplicate_listings/))\n",
        "\n",
        "Ultimately, since there are no data input / scrape errors (shown by unique listing IDs), we will not tamper with these 'duplicates'."
      ]
    },
    {
      "cell_type": "markdown",
      "metadata": {
        "id": "14ns2Ox-4tOT"
      },
      "source": [
        "##Dropping columns\n",
        "\n",
        "Since we're utilizing a dataset scraped from AirBnB's website, our new dataset contains a lot more variables than our first dataset from Kaggle, where it seems like the author in Kaggle had already cleaned and excluded irrelevant columns.\n",
        "\n",
        "We will now do the same with the variables in this dataset that we won't be using for this project. Most of the columns we will drop relates to the host, web scraping, and listing information that are unlikely to effect price (e.g. host url, scrape id, host location, etc.)"
      ]
    },
    {
      "cell_type": "code",
      "metadata": {
        "id": "yA6R-Ad-awOH"
      },
      "source": [
        "cols_to_drop = ['host_url','calendar_updated','listing_url','scrape_id','last_scraped','neighborhood_overview','picture_url','host_name','host_since','host_response_time','host_location','host_about','host_thumbnail_url','host_picture_url','host_neighbourhood','host_listings_count','host_verifications','neighbourhood','bathrooms','calendar_last_scraped','first_review','last_review','license','calculated_host_listings_count','calculated_host_listings_count_entire_homes','calculated_host_listings_count_private_rooms','calculated_host_listings_count_shared_rooms']"
      ],
      "execution_count": null,
      "outputs": []
    },
    {
      "cell_type": "code",
      "metadata": {
        "id": "8mxXvhmCcrBg"
      },
      "source": [
        "clean_droppedcols = raw.drop(columns=cols_to_drop)"
      ],
      "execution_count": null,
      "outputs": []
    },
    {
      "cell_type": "code",
      "metadata": {
        "id": "KzMqPFVseaDc",
        "outputId": "1a7e0d61-062e-406e-97d9-d2e6dae0ee09",
        "colab": {
          "base_uri": "https://localhost:8080/"
        }
      },
      "source": [
        "clean_droppedcols.info()"
      ],
      "execution_count": null,
      "outputs": [
        {
          "output_type": "stream",
          "text": [
            "<class 'pandas.core.frame.DataFrame'>\n",
            "RangeIndex: 44666 entries, 0 to 44665\n",
            "Data columns (total 47 columns):\n",
            " #   Column                        Non-Null Count  Dtype  \n",
            "---  ------                        --------------  -----  \n",
            " 0   id                            44666 non-null  int64  \n",
            " 1   name                          44650 non-null  object \n",
            " 2   description                   43385 non-null  object \n",
            " 3   host_id                       44666 non-null  int64  \n",
            " 4   host_response_rate            21587 non-null  object \n",
            " 5   host_acceptance_rate          27801 non-null  object \n",
            " 6   host_is_superhost             44649 non-null  object \n",
            " 7   host_total_listings_count     44649 non-null  float64\n",
            " 8   host_has_profile_pic          44649 non-null  object \n",
            " 9   host_identity_verified        44649 non-null  object \n",
            " 10  neighbourhood_cleansed        44666 non-null  object \n",
            " 11  neighbourhood_group_cleansed  44666 non-null  object \n",
            " 12  latitude                      44666 non-null  float64\n",
            " 13  longitude                     44666 non-null  float64\n",
            " 14  property_type                 44666 non-null  object \n",
            " 15  room_type                     44666 non-null  object \n",
            " 16  accommodates                  44666 non-null  int64  \n",
            " 17  bathrooms_text                44576 non-null  object \n",
            " 18  bedrooms                      40407 non-null  float64\n",
            " 19  beds                          44153 non-null  float64\n",
            " 20  amenities                     44666 non-null  object \n",
            " 21  price                         44666 non-null  object \n",
            " 22  minimum_nights                44666 non-null  int64  \n",
            " 23  maximum_nights                44666 non-null  int64  \n",
            " 24  minimum_minimum_nights        44660 non-null  float64\n",
            " 25  maximum_minimum_nights        44660 non-null  float64\n",
            " 26  minimum_maximum_nights        44660 non-null  float64\n",
            " 27  maximum_maximum_nights        44660 non-null  float64\n",
            " 28  minimum_nights_avg_ntm        44660 non-null  float64\n",
            " 29  maximum_nights_avg_ntm        44660 non-null  float64\n",
            " 30  has_availability              44666 non-null  object \n",
            " 31  availability_30               44666 non-null  int64  \n",
            " 32  availability_60               44666 non-null  int64  \n",
            " 33  availability_90               44666 non-null  int64  \n",
            " 34  availability_365              44666 non-null  int64  \n",
            " 35  number_of_reviews             44666 non-null  int64  \n",
            " 36  number_of_reviews_ltm         44666 non-null  int64  \n",
            " 37  number_of_reviews_l30d        44666 non-null  int64  \n",
            " 38  review_scores_rating          33102 non-null  float64\n",
            " 39  review_scores_accuracy        33070 non-null  float64\n",
            " 40  review_scores_cleanliness     33083 non-null  float64\n",
            " 41  review_scores_checkin         33055 non-null  float64\n",
            " 42  review_scores_communication   33075 non-null  float64\n",
            " 43  review_scores_location        33050 non-null  float64\n",
            " 44  review_scores_value           33051 non-null  float64\n",
            " 45  instant_bookable              44666 non-null  object \n",
            " 46  reviews_per_month             34149 non-null  float64\n",
            "dtypes: float64(19), int64(12), object(16)\n",
            "memory usage: 16.0+ MB\n"
          ],
          "name": "stdout"
        }
      ]
    },
    {
      "cell_type": "markdown",
      "metadata": {
        "id": "H7KAEE103l4l"
      },
      "source": [
        "##Adding an *Amenities_Count* column\n",
        "\n",
        "With amenities of a listing listed, it might be interesting to see if the amount of amenities could affect the listing's price"
      ]
    },
    {
      "cell_type": "code",
      "metadata": {
        "id": "5dXyL0tkgLxr",
        "outputId": "ab4e622b-3fe2-40de-f44c-33c7e263da1d",
        "colab": {
          "base_uri": "https://localhost:8080/"
        }
      },
      "source": [
        "clean_droppedcols['amenities'][0]"
      ],
      "execution_count": null,
      "outputs": [
        {
          "output_type": "execute_result",
          "data": {
            "application/vnd.google.colaboratory.intrinsic+json": {
              "type": "string"
            },
            "text/plain": [
              "'[\"Hot water\", \"Stove\", \"Extra pillows and blankets\", \"Smoke alarm\", \"Laptop-friendly workspace\", \"Coffee maker\", \"Bed linens\", \"Dishes and silverware\", \"Oven\", \"Wifi\", \"Air conditioning\", \"Paid parking off premises\", \"Baking sheet\", \"Fire extinguisher\", \"Free street parking\", \"Essentials\", \"Heating\", \"Kitchen\", \"Carbon monoxide alarm\", \"Cooking basics\", \"Refrigerator\", \"Hair dryer\", \"Hangers\", \"Keypad\", \"Bathtub\", \"Ethernet connection\", \"TV\", \"Iron\", \"Cleaning before checkout\", \"Long term stays allowed\", \"Luggage dropoff allowed\"]'"
            ]
          },
          "metadata": {
            "tags": []
          },
          "execution_count": 265
        }
      ]
    },
    {
      "cell_type": "code",
      "metadata": {
        "id": "YaARtrg1fMeK",
        "outputId": "c50e9ea3-3f79-4d47-c0ed-0f4aac0ee4b7",
        "colab": {
          "base_uri": "https://localhost:8080/"
        }
      },
      "source": [
        "len(clean_droppedcols['amenities'][0].strip(\"][\").split('\", \"'))"
      ],
      "execution_count": null,
      "outputs": [
        {
          "output_type": "execute_result",
          "data": {
            "text/plain": [
              "31"
            ]
          },
          "metadata": {
            "tags": []
          },
          "execution_count": 266
        }
      ]
    },
    {
      "cell_type": "code",
      "metadata": {
        "id": "v1DEnaYMe8xK"
      },
      "source": [
        "amenities_count = []\n",
        "for i in range(len(clean_droppedcols['amenities'])):\n",
        "    count = len(clean_droppedcols['amenities'][i].strip(\"][\").split('\", \"'))\n",
        "    amenities_count.append(count)"
      ],
      "execution_count": null,
      "outputs": []
    },
    {
      "cell_type": "code",
      "metadata": {
        "id": "432NMA3fg4tK"
      },
      "source": [
        "clean_droppedcols['amenities_count'] = amenities_count"
      ],
      "execution_count": null,
      "outputs": []
    },
    {
      "cell_type": "code",
      "metadata": {
        "id": "G6QJ6RhXYUQf",
        "outputId": "9ef878c4-f29f-4fd2-acf8-ae439d42b027",
        "colab": {
          "base_uri": "https://localhost:8080/"
        }
      },
      "source": [
        "clean_droppedcols['amenities_count'][0]"
      ],
      "execution_count": null,
      "outputs": [
        {
          "output_type": "execute_result",
          "data": {
            "text/plain": [
              "31"
            ]
          },
          "metadata": {
            "tags": []
          },
          "execution_count": 269
        }
      ]
    },
    {
      "cell_type": "markdown",
      "metadata": {
        "id": "21D2JYLH8E0b"
      },
      "source": [
        "## Fixing *price* variable (and other object vars)\n",
        "\n",
        "When taking a closer look at the price of the listings, it seems that the data type is a string with dollar signs afixed to the front and commas seperating thousands. We need to convert this into a float so we can run analysis on it later on."
      ]
    },
    {
      "cell_type": "code",
      "metadata": {
        "id": "cyn5a57-g8uf"
      },
      "source": [
        "data = clean_droppedcols"
      ],
      "execution_count": null,
      "outputs": []
    },
    {
      "cell_type": "code",
      "metadata": {
        "id": "w6O1WV_18pQE",
        "outputId": "488fc303-cd8f-4bce-a01f-3e9f54ae709a",
        "colab": {
          "base_uri": "https://localhost:8080/"
        }
      },
      "source": [
        "type(data['price'][0])"
      ],
      "execution_count": null,
      "outputs": [
        {
          "output_type": "execute_result",
          "data": {
            "text/plain": [
              "str"
            ]
          },
          "metadata": {
            "tags": []
          },
          "execution_count": 271
        }
      ]
    },
    {
      "cell_type": "code",
      "metadata": {
        "id": "LZd1na6epmTb"
      },
      "source": [
        "data['price'] = [float(data['price'][i].strip('$').strip(',').replace(',','')) for i in range(len(data['price']))]"
      ],
      "execution_count": null,
      "outputs": []
    },
    {
      "cell_type": "code",
      "metadata": {
        "id": "pB1C_VVSwj1r",
        "outputId": "15d34620-11c5-477d-b4c3-143020968e43",
        "colab": {
          "base_uri": "https://localhost:8080/"
        }
      },
      "source": [
        "# note the change in type\n",
        "type(data['price'][0])"
      ],
      "execution_count": null,
      "outputs": [
        {
          "output_type": "execute_result",
          "data": {
            "text/plain": [
              "numpy.float64"
            ]
          },
          "metadata": {
            "tags": []
          },
          "execution_count": 273
        }
      ]
    },
    {
      "cell_type": "code",
      "metadata": {
        "id": "2z-gGley9UaL",
        "outputId": "c64a76fe-1cff-402d-8967-bf84d02c0b32",
        "colab": {
          "base_uri": "https://localhost:8080/"
        }
      },
      "source": [
        "raw['price'].describe()"
      ],
      "execution_count": null,
      "outputs": [
        {
          "output_type": "execute_result",
          "data": {
            "text/plain": [
              "count       44666\n",
              "unique       1163\n",
              "top       $100.00\n",
              "freq         1633\n",
              "Name: price, dtype: object"
            ]
          },
          "metadata": {
            "tags": []
          },
          "execution_count": 274
        }
      ]
    },
    {
      "cell_type": "code",
      "metadata": {
        "id": "IuwFjpC191UX"
      },
      "source": [
        "# data['price'].describe()"
      ],
      "execution_count": null,
      "outputs": []
    },
    {
      "cell_type": "code",
      "metadata": {
        "id": "SzE6GBdU_Hia"
      },
      "source": [
        "# plt.figure(figsize=(30, 6))\n",
        "# sns.boxplot('price',data=data, whis=1.5)"
      ],
      "execution_count": null,
      "outputs": []
    },
    {
      "cell_type": "code",
      "metadata": {
        "id": "AOYSiLYTMMnt",
        "outputId": "828ed397-134a-4013-dddf-dee6df469fd6",
        "colab": {
          "base_uri": "https://localhost:8080/"
        }
      },
      "source": [
        "data['bathrooms_text'].unique()"
      ],
      "execution_count": null,
      "outputs": [
        {
          "output_type": "execute_result",
          "data": {
            "text/plain": [
              "array(['1 bath', nan, '1.5 baths', '1 shared bath', '1 private bath',\n",
              "       'Shared half-bath', '2 baths', '3.5 baths', '1.5 shared baths',\n",
              "       '2.5 baths', '3 baths', 'Half-bath', '2 shared baths',\n",
              "       '0 shared baths', '0 baths', '5 baths', 'Private half-bath',\n",
              "       '4.5 baths', '5.5 baths', '2.5 shared baths', '15.5 baths',\n",
              "       '6 baths', '4 baths', '3 shared baths', '8 shared baths',\n",
              "       '4 shared baths', '3.5 shared baths', '6 shared baths',\n",
              "       '6.5 shared baths', '6.5 baths', '5 shared baths',\n",
              "       '4.5 shared baths', '7.5 baths', '5.5 shared baths', '7 baths',\n",
              "       '8 baths'], dtype=object)"
            ]
          },
          "metadata": {
            "tags": []
          },
          "execution_count": 277
        }
      ]
    },
    {
      "cell_type": "markdown",
      "metadata": {
        "id": "2IEaqWgcm5WR"
      },
      "source": [
        "## Dealing with null variables"
      ]
    },
    {
      "cell_type": "code",
      "metadata": {
        "id": "x1CaTYXWvXZT",
        "outputId": "2facf574-fabe-499d-f2fc-885003517aea",
        "colab": {
          "base_uri": "https://localhost:8080/"
        }
      },
      "source": [
        "data.info()"
      ],
      "execution_count": null,
      "outputs": [
        {
          "output_type": "stream",
          "text": [
            "<class 'pandas.core.frame.DataFrame'>\n",
            "RangeIndex: 44666 entries, 0 to 44665\n",
            "Data columns (total 48 columns):\n",
            " #   Column                        Non-Null Count  Dtype  \n",
            "---  ------                        --------------  -----  \n",
            " 0   id                            44666 non-null  int64  \n",
            " 1   name                          44650 non-null  object \n",
            " 2   description                   43385 non-null  object \n",
            " 3   host_id                       44666 non-null  int64  \n",
            " 4   host_response_rate            21587 non-null  object \n",
            " 5   host_acceptance_rate          27801 non-null  object \n",
            " 6   host_is_superhost             44649 non-null  object \n",
            " 7   host_total_listings_count     44649 non-null  float64\n",
            " 8   host_has_profile_pic          44649 non-null  object \n",
            " 9   host_identity_verified        44649 non-null  object \n",
            " 10  neighbourhood_cleansed        44666 non-null  object \n",
            " 11  neighbourhood_group_cleansed  44666 non-null  object \n",
            " 12  latitude                      44666 non-null  float64\n",
            " 13  longitude                     44666 non-null  float64\n",
            " 14  property_type                 44666 non-null  object \n",
            " 15  room_type                     44666 non-null  object \n",
            " 16  accommodates                  44666 non-null  int64  \n",
            " 17  bathrooms_text                44576 non-null  object \n",
            " 18  bedrooms                      40407 non-null  float64\n",
            " 19  beds                          44153 non-null  float64\n",
            " 20  amenities                     44666 non-null  object \n",
            " 21  price                         44666 non-null  float64\n",
            " 22  minimum_nights                44666 non-null  int64  \n",
            " 23  maximum_nights                44666 non-null  int64  \n",
            " 24  minimum_minimum_nights        44660 non-null  float64\n",
            " 25  maximum_minimum_nights        44660 non-null  float64\n",
            " 26  minimum_maximum_nights        44660 non-null  float64\n",
            " 27  maximum_maximum_nights        44660 non-null  float64\n",
            " 28  minimum_nights_avg_ntm        44660 non-null  float64\n",
            " 29  maximum_nights_avg_ntm        44660 non-null  float64\n",
            " 30  has_availability              44666 non-null  object \n",
            " 31  availability_30               44666 non-null  int64  \n",
            " 32  availability_60               44666 non-null  int64  \n",
            " 33  availability_90               44666 non-null  int64  \n",
            " 34  availability_365              44666 non-null  int64  \n",
            " 35  number_of_reviews             44666 non-null  int64  \n",
            " 36  number_of_reviews_ltm         44666 non-null  int64  \n",
            " 37  number_of_reviews_l30d        44666 non-null  int64  \n",
            " 38  review_scores_rating          33102 non-null  float64\n",
            " 39  review_scores_accuracy        33070 non-null  float64\n",
            " 40  review_scores_cleanliness     33083 non-null  float64\n",
            " 41  review_scores_checkin         33055 non-null  float64\n",
            " 42  review_scores_communication   33075 non-null  float64\n",
            " 43  review_scores_location        33050 non-null  float64\n",
            " 44  review_scores_value           33051 non-null  float64\n",
            " 45  instant_bookable              44666 non-null  object \n",
            " 46  reviews_per_month             34149 non-null  float64\n",
            " 47  amenities_count               44666 non-null  int64  \n",
            "dtypes: float64(20), int64(13), object(15)\n",
            "memory usage: 16.4+ MB\n"
          ],
          "name": "stdout"
        }
      ]
    },
    {
      "cell_type": "markdown",
      "metadata": {
        "id": "8TutRlg9oNgl"
      },
      "source": [
        "Taking a look at the information on our dataset, the first existance of null values is seen in the names and description columns."
      ]
    },
    {
      "cell_type": "code",
      "metadata": {
        "id": "5WXX901Gn8UI",
        "outputId": "e232d283-bcf9-4618-e128-b5753e9d81fa",
        "colab": {
          "base_uri": "https://localhost:8080/",
          "height": 266
        }
      },
      "source": [
        "data[data['description'].isna()][['price','number_of_reviews']].head(7)"
      ],
      "execution_count": null,
      "outputs": [
        {
          "output_type": "execute_result",
          "data": {
            "text/html": [
              "<div>\n",
              "<style scoped>\n",
              "    .dataframe tbody tr th:only-of-type {\n",
              "        vertical-align: middle;\n",
              "    }\n",
              "\n",
              "    .dataframe tbody tr th {\n",
              "        vertical-align: top;\n",
              "    }\n",
              "\n",
              "    .dataframe thead th {\n",
              "        text-align: right;\n",
              "    }\n",
              "</style>\n",
              "<table border=\"1\" class=\"dataframe\">\n",
              "  <thead>\n",
              "    <tr style=\"text-align: right;\">\n",
              "      <th></th>\n",
              "      <th>price</th>\n",
              "      <th>number_of_reviews</th>\n",
              "    </tr>\n",
              "  </thead>\n",
              "  <tbody>\n",
              "    <tr>\n",
              "      <th>2201</th>\n",
              "      <td>390.0</td>\n",
              "      <td>1</td>\n",
              "    </tr>\n",
              "    <tr>\n",
              "      <th>2232</th>\n",
              "      <td>171.0</td>\n",
              "      <td>30</td>\n",
              "    </tr>\n",
              "    <tr>\n",
              "      <th>2568</th>\n",
              "      <td>220.0</td>\n",
              "      <td>2</td>\n",
              "    </tr>\n",
              "    <tr>\n",
              "      <th>2930</th>\n",
              "      <td>200.0</td>\n",
              "      <td>28</td>\n",
              "    </tr>\n",
              "    <tr>\n",
              "      <th>2932</th>\n",
              "      <td>300.0</td>\n",
              "      <td>0</td>\n",
              "    </tr>\n",
              "    <tr>\n",
              "      <th>3235</th>\n",
              "      <td>40.0</td>\n",
              "      <td>2</td>\n",
              "    </tr>\n",
              "    <tr>\n",
              "      <th>3802</th>\n",
              "      <td>30.0</td>\n",
              "      <td>0</td>\n",
              "    </tr>\n",
              "  </tbody>\n",
              "</table>\n",
              "</div>"
            ],
            "text/plain": [
              "      price  number_of_reviews\n",
              "2201  390.0                  1\n",
              "2232  171.0                 30\n",
              "2568  220.0                  2\n",
              "2930  200.0                 28\n",
              "2932  300.0                  0\n",
              "3235   40.0                  2\n",
              "3802   30.0                  0"
            ]
          },
          "metadata": {
            "tags": []
          },
          "execution_count": 279
        }
      ]
    },
    {
      "cell_type": "code",
      "metadata": {
        "id": "V2AbZ70VodTX",
        "outputId": "de748caa-82d5-4325-eeaa-f6d626c5716a",
        "colab": {
          "base_uri": "https://localhost:8080/",
          "height": 266
        }
      },
      "source": [
        "data[data['name'].isna()][['price','number_of_reviews']].head(7)"
      ],
      "execution_count": null,
      "outputs": [
        {
          "output_type": "execute_result",
          "data": {
            "text/html": [
              "<div>\n",
              "<style scoped>\n",
              "    .dataframe tbody tr th:only-of-type {\n",
              "        vertical-align: middle;\n",
              "    }\n",
              "\n",
              "    .dataframe tbody tr th {\n",
              "        vertical-align: top;\n",
              "    }\n",
              "\n",
              "    .dataframe thead th {\n",
              "        text-align: right;\n",
              "    }\n",
              "</style>\n",
              "<table border=\"1\" class=\"dataframe\">\n",
              "  <thead>\n",
              "    <tr style=\"text-align: right;\">\n",
              "      <th></th>\n",
              "      <th>price</th>\n",
              "      <th>number_of_reviews</th>\n",
              "    </tr>\n",
              "  </thead>\n",
              "  <tbody>\n",
              "    <tr>\n",
              "      <th>2270</th>\n",
              "      <td>400.0</td>\n",
              "      <td>0</td>\n",
              "    </tr>\n",
              "    <tr>\n",
              "      <th>2930</th>\n",
              "      <td>200.0</td>\n",
              "      <td>28</td>\n",
              "    </tr>\n",
              "    <tr>\n",
              "      <th>4613</th>\n",
              "      <td>225.0</td>\n",
              "      <td>1</td>\n",
              "    </tr>\n",
              "    <tr>\n",
              "      <th>4767</th>\n",
              "      <td>215.0</td>\n",
              "      <td>5</td>\n",
              "    </tr>\n",
              "    <tr>\n",
              "      <th>5009</th>\n",
              "      <td>150.0</td>\n",
              "      <td>0</td>\n",
              "    </tr>\n",
              "    <tr>\n",
              "      <th>5246</th>\n",
              "      <td>70.0</td>\n",
              "      <td>0</td>\n",
              "    </tr>\n",
              "    <tr>\n",
              "      <th>5277</th>\n",
              "      <td>40.0</td>\n",
              "      <td>0</td>\n",
              "    </tr>\n",
              "  </tbody>\n",
              "</table>\n",
              "</div>"
            ],
            "text/plain": [
              "      price  number_of_reviews\n",
              "2270  400.0                  0\n",
              "2930  200.0                 28\n",
              "4613  225.0                  1\n",
              "4767  215.0                  5\n",
              "5009  150.0                  0\n",
              "5246   70.0                  0\n",
              "5277   40.0                  0"
            ]
          },
          "metadata": {
            "tags": []
          },
          "execution_count": 280
        }
      ]
    },
    {
      "cell_type": "markdown",
      "metadata": {
        "id": "3ca2mBQSu-yn"
      },
      "source": [
        "Considering the fact that this project does not plan to use *description* or *name* in our exploration, it may be worth to leave the columns as is for the moment (perhaps even dropping it entirely later on)."
      ]
    },
    {
      "cell_type": "markdown",
      "metadata": {
        "id": "xjazLXlNm_y6"
      },
      "source": [
        "### Null values related to host"
      ]
    },
    {
      "cell_type": "markdown",
      "metadata": {
        "id": "FwzSbIeTn7uh"
      },
      "source": [
        "The next few columns with null values pertain to the host, specifically their interaction with customers."
      ]
    },
    {
      "cell_type": "code",
      "metadata": {
        "id": "GAPEdaMgv-nH",
        "outputId": "a7144060-530a-4a44-f249-2e2085323e3c",
        "colab": {
          "base_uri": "https://localhost:8080/",
          "height": 204
        }
      },
      "source": [
        "data[data['host_response_rate'].isna()][['price','reviews_per_month']].head()"
      ],
      "execution_count": null,
      "outputs": [
        {
          "output_type": "execute_result",
          "data": {
            "text/html": [
              "<div>\n",
              "<style scoped>\n",
              "    .dataframe tbody tr th:only-of-type {\n",
              "        vertical-align: middle;\n",
              "    }\n",
              "\n",
              "    .dataframe tbody tr th {\n",
              "        vertical-align: top;\n",
              "    }\n",
              "\n",
              "    .dataframe thead th {\n",
              "        text-align: right;\n",
              "    }\n",
              "</style>\n",
              "<table border=\"1\" class=\"dataframe\">\n",
              "  <thead>\n",
              "    <tr style=\"text-align: right;\">\n",
              "      <th></th>\n",
              "      <th>price</th>\n",
              "      <th>reviews_per_month</th>\n",
              "    </tr>\n",
              "  </thead>\n",
              "  <tbody>\n",
              "    <tr>\n",
              "      <th>2</th>\n",
              "      <td>60.0</td>\n",
              "      <td>0.36</td>\n",
              "    </tr>\n",
              "    <tr>\n",
              "      <th>5</th>\n",
              "      <td>75.0</td>\n",
              "      <td>0.87</td>\n",
              "    </tr>\n",
              "    <tr>\n",
              "      <th>8</th>\n",
              "      <td>85.0</td>\n",
              "      <td>0.89</td>\n",
              "    </tr>\n",
              "    <tr>\n",
              "      <th>15</th>\n",
              "      <td>86.0</td>\n",
              "      <td>NaN</td>\n",
              "    </tr>\n",
              "    <tr>\n",
              "      <th>17</th>\n",
              "      <td>55.0</td>\n",
              "      <td>1.27</td>\n",
              "    </tr>\n",
              "  </tbody>\n",
              "</table>\n",
              "</div>"
            ],
            "text/plain": [
              "    price  reviews_per_month\n",
              "2    60.0               0.36\n",
              "5    75.0               0.87\n",
              "8    85.0               0.89\n",
              "15   86.0                NaN\n",
              "17   55.0               1.27"
            ]
          },
          "metadata": {
            "tags": []
          },
          "execution_count": 281
        }
      ]
    },
    {
      "cell_type": "code",
      "metadata": {
        "id": "OAhEFhIXJ0hs",
        "outputId": "971d81e5-ca2f-435b-d936-22505846fe39",
        "colab": {
          "base_uri": "https://localhost:8080/",
          "height": 204
        }
      },
      "source": [
        "data[data['host_acceptance_rate'].isna()][['price','reviews_per_month']].head()"
      ],
      "execution_count": null,
      "outputs": [
        {
          "output_type": "execute_result",
          "data": {
            "text/html": [
              "<div>\n",
              "<style scoped>\n",
              "    .dataframe tbody tr th:only-of-type {\n",
              "        vertical-align: middle;\n",
              "    }\n",
              "\n",
              "    .dataframe tbody tr th {\n",
              "        vertical-align: top;\n",
              "    }\n",
              "\n",
              "    .dataframe thead th {\n",
              "        text-align: right;\n",
              "    }\n",
              "</style>\n",
              "<table border=\"1\" class=\"dataframe\">\n",
              "  <thead>\n",
              "    <tr style=\"text-align: right;\">\n",
              "      <th></th>\n",
              "      <th>price</th>\n",
              "      <th>reviews_per_month</th>\n",
              "    </tr>\n",
              "  </thead>\n",
              "  <tbody>\n",
              "    <tr>\n",
              "      <th>3</th>\n",
              "      <td>175.0</td>\n",
              "      <td>0.01</td>\n",
              "    </tr>\n",
              "    <tr>\n",
              "      <th>5</th>\n",
              "      <td>75.0</td>\n",
              "      <td>0.87</td>\n",
              "    </tr>\n",
              "    <tr>\n",
              "      <th>15</th>\n",
              "      <td>86.0</td>\n",
              "      <td>NaN</td>\n",
              "    </tr>\n",
              "    <tr>\n",
              "      <th>26</th>\n",
              "      <td>120.0</td>\n",
              "      <td>0.09</td>\n",
              "    </tr>\n",
              "    <tr>\n",
              "      <th>44</th>\n",
              "      <td>250.0</td>\n",
              "      <td>0.10</td>\n",
              "    </tr>\n",
              "  </tbody>\n",
              "</table>\n",
              "</div>"
            ],
            "text/plain": [
              "    price  reviews_per_month\n",
              "3   175.0               0.01\n",
              "5    75.0               0.87\n",
              "15   86.0                NaN\n",
              "26  120.0               0.09\n",
              "44  250.0               0.10"
            ]
          },
          "metadata": {
            "tags": []
          },
          "execution_count": 282
        }
      ]
    },
    {
      "cell_type": "markdown",
      "metadata": {
        "id": "YHEJP7-SwVYV"
      },
      "source": [
        "The queries above show that despite null values, the listings do seem to be active.\n",
        "\n",
        "Information on the [AirBnB page](https://www.airbnb.com/help/article/430/what-are-response-rate-and-response-time-and-how-are-they-calculated) show that these values are based on the last 30 days, so if the host has not interacted with customers for the past month, they will have null values. For this project, we will fill the null values with the mean values."
      ]
    },
    {
      "cell_type": "markdown",
      "metadata": {
        "id": "cJEaViriJDLw"
      },
      "source": [
        "### host_response_rate"
      ]
    },
    {
      "cell_type": "code",
      "metadata": {
        "id": "aQs3u9_nGA8h"
      },
      "source": [
        "data['host_response_rate'].fillna('-1%',inplace=True)"
      ],
      "execution_count": null,
      "outputs": []
    },
    {
      "cell_type": "code",
      "metadata": {
        "id": "AGiHUVPjGQJ7"
      },
      "source": [
        "data['host_response_rate'] = [int(data['host_response_rate'][i].strip('%')) for i in range(len(data['host_response_rate']))]"
      ],
      "execution_count": null,
      "outputs": []
    },
    {
      "cell_type": "code",
      "metadata": {
        "id": "unjikHi0G3iU"
      },
      "source": [
        "# # filter = data['host_response_rate'] >= 0\n",
        "# mean_host_resp_rate = data[filter]['host_response_rate'].mean()\n",
        "# data['host_response_rate'].replace({-1:mean_host_resp_rate})"
      ],
      "execution_count": null,
      "outputs": []
    },
    {
      "cell_type": "markdown",
      "metadata": {
        "id": "I5Wx7raNJGGb"
      },
      "source": [
        "\n",
        "### host_acceptance_rate"
      ]
    },
    {
      "cell_type": "code",
      "metadata": {
        "id": "dWtZHVd0JOuz"
      },
      "source": [
        "data['host_acceptance_rate'].fillna('-1%',inplace=True)"
      ],
      "execution_count": null,
      "outputs": []
    },
    {
      "cell_type": "code",
      "metadata": {
        "id": "gp7XaFOfJOu3"
      },
      "source": [
        "data['host_acceptance_rate'] = [int(data['host_acceptance_rate'][i].strip('%')) for i in range(len(data['host_acceptance_rate']))]"
      ],
      "execution_count": null,
      "outputs": []
    },
    {
      "cell_type": "code",
      "metadata": {
        "id": "S_1Fv4azJOu5"
      },
      "source": [
        "# filter = data['host_acceptance_rate'] >= 0\n",
        "# mean_host_acc_rate = data[filter]['host_acceptance_rate'].mean()\n",
        "# data['host_acceptance_rate'].replace({-1:mean_host_acc_rate})"
      ],
      "execution_count": null,
      "outputs": []
    },
    {
      "cell_type": "markdown",
      "metadata": {
        "id": "oYvA9r2fEXFJ"
      },
      "source": [
        "## Code for Export"
      ]
    },
    {
      "cell_type": "code",
      "metadata": {
        "id": "2WSCil2GNiP3"
      },
      "source": [
        "data.to_csv('cleaned_listings.csv', index=False)"
      ],
      "execution_count": null,
      "outputs": []
    },
    {
      "cell_type": "code",
      "metadata": {
        "id": "I7Uh-VhsNRhK",
        "outputId": "729471f5-a956-43da-ca6e-c1f84ac11521",
        "colab": {
          "base_uri": "https://localhost:8080/"
        }
      },
      "source": [
        "data.info()"
      ],
      "execution_count": null,
      "outputs": [
        {
          "output_type": "stream",
          "text": [
            "<class 'pandas.core.frame.DataFrame'>\n",
            "RangeIndex: 44666 entries, 0 to 44665\n",
            "Data columns (total 48 columns):\n",
            " #   Column                        Non-Null Count  Dtype  \n",
            "---  ------                        --------------  -----  \n",
            " 0   id                            44666 non-null  int64  \n",
            " 1   name                          44650 non-null  object \n",
            " 2   description                   43385 non-null  object \n",
            " 3   host_id                       44666 non-null  int64  \n",
            " 4   host_response_rate            44666 non-null  int64  \n",
            " 5   host_acceptance_rate          44666 non-null  int64  \n",
            " 6   host_is_superhost             44649 non-null  object \n",
            " 7   host_total_listings_count     44649 non-null  float64\n",
            " 8   host_has_profile_pic          44649 non-null  object \n",
            " 9   host_identity_verified        44649 non-null  object \n",
            " 10  neighbourhood_cleansed        44666 non-null  object \n",
            " 11  neighbourhood_group_cleansed  44666 non-null  object \n",
            " 12  latitude                      44666 non-null  float64\n",
            " 13  longitude                     44666 non-null  float64\n",
            " 14  property_type                 44666 non-null  object \n",
            " 15  room_type                     44666 non-null  object \n",
            " 16  accommodates                  44666 non-null  int64  \n",
            " 17  bathrooms_text                44576 non-null  object \n",
            " 18  bedrooms                      40407 non-null  float64\n",
            " 19  beds                          44153 non-null  float64\n",
            " 20  amenities                     44666 non-null  object \n",
            " 21  price                         44666 non-null  float64\n",
            " 22  minimum_nights                44666 non-null  int64  \n",
            " 23  maximum_nights                44666 non-null  int64  \n",
            " 24  minimum_minimum_nights        44660 non-null  float64\n",
            " 25  maximum_minimum_nights        44660 non-null  float64\n",
            " 26  minimum_maximum_nights        44660 non-null  float64\n",
            " 27  maximum_maximum_nights        44660 non-null  float64\n",
            " 28  minimum_nights_avg_ntm        44660 non-null  float64\n",
            " 29  maximum_nights_avg_ntm        44660 non-null  float64\n",
            " 30  has_availability              44666 non-null  object \n",
            " 31  availability_30               44666 non-null  int64  \n",
            " 32  availability_60               44666 non-null  int64  \n",
            " 33  availability_90               44666 non-null  int64  \n",
            " 34  availability_365              44666 non-null  int64  \n",
            " 35  number_of_reviews             44666 non-null  int64  \n",
            " 36  number_of_reviews_ltm         44666 non-null  int64  \n",
            " 37  number_of_reviews_l30d        44666 non-null  int64  \n",
            " 38  review_scores_rating          33102 non-null  float64\n",
            " 39  review_scores_accuracy        33070 non-null  float64\n",
            " 40  review_scores_cleanliness     33083 non-null  float64\n",
            " 41  review_scores_checkin         33055 non-null  float64\n",
            " 42  review_scores_communication   33075 non-null  float64\n",
            " 43  review_scores_location        33050 non-null  float64\n",
            " 44  review_scores_value           33051 non-null  float64\n",
            " 45  instant_bookable              44666 non-null  object \n",
            " 46  reviews_per_month             34149 non-null  float64\n",
            " 47  amenities_count               44666 non-null  int64  \n",
            "dtypes: float64(20), int64(15), object(13)\n",
            "memory usage: 16.4+ MB\n"
          ],
          "name": "stdout"
        }
      ]
    }
  ]
}